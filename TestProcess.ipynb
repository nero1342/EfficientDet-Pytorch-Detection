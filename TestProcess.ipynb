{
 "cells": [
  {
   "cell_type": "code",
   "execution_count": 1,
   "metadata": {},
   "outputs": [],
   "source": [
    "token = {\"username\":\"nero18\",\"key\":\"d8628b574fd3cc95931821e3399a914a\"}\n",
    "import json \n",
    "with open('kaggle.json','w') as token_file:\n",
    "  json.dump(token, token_file)"
   ]
  },
  {
   "cell_type": "code",
   "execution_count": 6,
   "metadata": {},
   "outputs": [
    {
     "name": "stdout",
     "output_type": "stream",
     "text": [
      "mkdir: cannot create directory ‘/home/davis20/.kaggle’: File exists\n",
      "Downloading vinbigdata-competition-jpg-data-3x-downsampled.zip to /home/davis20/Detection/EfficientDet-Pytorch-Detection\n",
      "100%|█████████████████████████████████████▉| 3.39G/3.39G [01:44<00:00, 38.3MB/s]\n",
      "100%|██████████████████████████████████████| 3.39G/3.39G [01:44<00:00, 34.9MB/s]\n"
     ]
    }
   ],
   "source": [
    "! mkdir ~/.kaggle\n",
    "!cp kaggle.json ~/.kaggle/\n",
    "! chmod 600 ~/.kaggle/kaggle.json\n",
    "! kaggle datasets download raddar/vinbigdata-competition-jpg-data-3x-downsampled"
   ]
  },
  {
   "cell_type": "code",
   "execution_count": null,
   "metadata": {},
   "outputs": [],
   "source": [
    "!unzip vinbigdata-competition-jpg-data-3x-downsampled.zip -d data"
   ]
  },
  {
   "cell_type": "code",
   "execution_count": 8,
   "metadata": {},
   "outputs": [],
   "source": [
    "import json\n",
    "import os\n",
    "root_dir= 'data/vinbigdata-coco-dataset-with-wbf-3x-downscaled'\n",
    "with open(os.path.join(root_dir, 'train_annotations.json')) as outfile:\n",
    "    data = json.load(outfile)\n",
    "  "
   ]
  },
  {
   "cell_type": "code",
   "execution_count": 9,
   "metadata": {},
   "outputs": [
    {
     "name": "stdout",
     "output_type": "stream",
     "text": [
      "info\n",
      "licenses\n",
      "images\n",
      "type\n",
      "annotations\n",
      "categories\n",
      "{'license': 0, 'url': None, 'file_name': 'train_images/bf33d826094fabd938f69b3ba663f607.jpg', 'height': 1004, 'width': 1023, 'date_captured': None, 'id': 0}\n"
     ]
    }
   ],
   "source": [
    "for x in data:\n",
    "  print(x)\n",
    "print(data['images'][0])"
   ]
  },
  {
   "cell_type": "code",
   "execution_count": 13,
   "metadata": {},
   "outputs": [
    {
     "name": "stderr",
     "output_type": "stream",
     "text": [
      "3000it [00:25, 119.55it/s]"
     ]
    },
    {
     "name": "stdout",
     "output_type": "stream",
     "text": [
      "3000\n"
     ]
    },
    {
     "name": "stderr",
     "output_type": "stream",
     "text": [
      "\n"
     ]
    }
   ],
   "source": [
    "imgs = os.listdir('data/test/test')\n",
    "root_dir = 'data/test/test/'\n",
    "images_dict = []\n",
    "import numpy as np \n",
    "from PIL import Image \n",
    "from tqdm import tqdm \n",
    "for i, path in tqdm(enumerate(imgs)):\n",
    "  img = np.array(Image.open(os.path.join(root_dir, path)))\n",
    "  h, w = img.shape\n",
    "  now = {\n",
    "      'license': 0,\n",
    "      'url': None,\n",
    "      'file_name': path,\n",
    "      'height': h,\n",
    "      'width': w,\n",
    "      'date_captured': None,\n",
    "      'id': i\n",
    "  } \n",
    "  images_dict.append(now)\n",
    "  # break\n",
    "print(len(images_dict))"
   ]
  },
  {
   "cell_type": "code",
   "execution_count": 14,
   "metadata": {},
   "outputs": [],
   "source": [
    "\n",
    "data['images'] = images_dict \n",
    "data['annotations'] = []"
   ]
  },
  {
   "cell_type": "code",
   "execution_count": 15,
   "metadata": {},
   "outputs": [],
   "source": [
    "with open('data/vinbigdata-coco-dataset-with-wbf-3x-downscaled/test_annotations.json','w') as file :\n",
    "  json.dump(data, file) "
   ]
  },
  {
   "cell_type": "code",
   "execution_count": null,
   "metadata": {},
   "outputs": [],
   "source": [
    "!python eval_coco.py --config configs/val/test.yaml --gpus 0"
   ]
  },
  {
   "cell_type": "code",
   "execution_count": 25,
   "metadata": {},
   "outputs": [
    {
     "name": "stdout",
     "output_type": "stream",
     "text": [
      "92258\n"
     ]
    }
   ],
   "source": [
    "import json\n",
    "import os\n",
    "with open(os.path.join('test_bbox_results.json')) as outfile:\n",
    "    data = json.load(outfile)\n",
    "\n",
    "print(len(data))"
   ]
  },
  {
   "cell_type": "code",
   "execution_count": 26,
   "metadata": {},
   "outputs": [
    {
     "name": "stdout",
     "output_type": "stream",
     "text": [
      "loading annotations into memory...\n",
      "Done (t=0.01s)\n",
      "creating index...\n",
      "index created!\n",
      "3000 16bee7e6ccda97c07d096008fea\n"
     ]
    }
   ],
   "source": [
    "from pycocotools.coco import COCO\n",
    "coco = COCO('data/vinbigdata-coco-dataset-with-wbf-3x-downscaled/test_annotations.json')\n",
    "datasets = coco.getImgIds()\n",
    "\n",
    "print(len(datasets), coco.loadImgs(0)[0]['file_name'][5:-4])"
   ]
  },
  {
   "cell_type": "code",
   "execution_count": 27,
   "metadata": {},
   "outputs": [
    {
     "data": {
      "text/plain": [
       "array([ 241, 1730,   98,  165])"
      ]
     },
     "execution_count": 27,
     "metadata": {},
     "output_type": "execute_result"
    }
   ],
   "source": [
    "(np.array(data[0]['bbox']) * 3).astype(int)"
   ]
  },
  {
   "cell_type": "code",
   "execution_count": 36,
   "metadata": {},
   "outputs": [
    {
     "name": "stdout",
     "output_type": "stream",
     "text": [
      "2796\n"
     ]
    }
   ],
   "source": [
    "result = {} \n",
    "for dat in data:\n",
    "  if dat['score'] < 0.2:\n",
    "    continue\n",
    "  img = images_dict[dat['image_id']]['file_name'][:-4]\n",
    "  if (img not in result):\n",
    "    result[img] = ''\n",
    "  result[img] += str(dat['category_id']) + ' ' + str(1.0) + ' '\n",
    "  bbox = (np.array(dat['bbox']) * 3).astype(int) \n",
    "  bbox[2] += bbox[0]\n",
    "  bbox[3] += bbox[1]\n",
    "  for x in bbox:\n",
    "    result[img] += str(x) + ' ' \n",
    "print(len(result))\n",
    "for img__ in images_dict:\n",
    "  img = img__['file_name'][:-4]\n",
    "  \n",
    "  if (img not in result):\n",
    "    result[img] = '14 1.0 0 0 1 1'\n",
    "  "
   ]
  },
  {
   "cell_type": "code",
   "execution_count": 29,
   "metadata": {},
   "outputs": [],
   "source": [
    "import pandas as pd \n",
    "df = pd.DataFrame() \n",
    "df['image_id'] = result.keys() \n",
    "df['PredictionString'] = result.values() \n",
    "df.to_csv('result.csv', index = False)"
   ]
  },
  {
   "cell_type": "code",
   "execution_count": 30,
   "metadata": {},
   "outputs": [
    {
     "data": {
      "text/html": [
       "<div>\n",
       "<style scoped>\n",
       "    .dataframe tbody tr th:only-of-type {\n",
       "        vertical-align: middle;\n",
       "    }\n",
       "\n",
       "    .dataframe tbody tr th {\n",
       "        vertical-align: top;\n",
       "    }\n",
       "\n",
       "    .dataframe thead th {\n",
       "        text-align: right;\n",
       "    }\n",
       "</style>\n",
       "<table border=\"1\" class=\"dataframe\">\n",
       "  <thead>\n",
       "    <tr style=\"text-align: right;\">\n",
       "      <th></th>\n",
       "      <th>image_id</th>\n",
       "      <th>PredictionString</th>\n",
       "    </tr>\n",
       "  </thead>\n",
       "  <tbody>\n",
       "    <tr>\n",
       "      <th>0</th>\n",
       "      <td>f2fd066f221a835b1c68b24dcbeddc14</td>\n",
       "      <td>0 1.0 1371 862 1724 1242</td>\n",
       "    </tr>\n",
       "    <tr>\n",
       "      <th>1</th>\n",
       "      <td>788c42c6b87bb62f1d5def6b0e7ca9da</td>\n",
       "      <td>0 1.0 1128 956 1416 1294</td>\n",
       "    </tr>\n",
       "    <tr>\n",
       "      <th>2</th>\n",
       "      <td>5d8d9b5c072bbc2a4a2a0b89cd35ee9f</td>\n",
       "      <td>0 1.0 1441 775 1773 1171</td>\n",
       "    </tr>\n",
       "    <tr>\n",
       "      <th>3</th>\n",
       "      <td>e541711f560cd700d7fdddd1d3dd98d4</td>\n",
       "      <td>0 1.0 946 684 1141 902</td>\n",
       "    </tr>\n",
       "    <tr>\n",
       "      <th>4</th>\n",
       "      <td>6ee6a322ef5a5c52b1e160c2ef5e83fd</td>\n",
       "      <td>0 1.0 1392 855 1688 1174 3 1.0 998 1592 2179 1...</td>\n",
       "    </tr>\n",
       "  </tbody>\n",
       "</table>\n",
       "</div>"
      ],
      "text/plain": [
       "                           image_id  \\\n",
       "0  f2fd066f221a835b1c68b24dcbeddc14   \n",
       "1  788c42c6b87bb62f1d5def6b0e7ca9da   \n",
       "2  5d8d9b5c072bbc2a4a2a0b89cd35ee9f   \n",
       "3  e541711f560cd700d7fdddd1d3dd98d4   \n",
       "4  6ee6a322ef5a5c52b1e160c2ef5e83fd   \n",
       "\n",
       "                                    PredictionString  \n",
       "0                          0 1.0 1371 862 1724 1242   \n",
       "1                          0 1.0 1128 956 1416 1294   \n",
       "2                          0 1.0 1441 775 1773 1171   \n",
       "3                            0 1.0 946 684 1141 902   \n",
       "4  0 1.0 1392 855 1688 1174 3 1.0 998 1592 2179 1...  "
      ]
     },
     "execution_count": 30,
     "metadata": {},
     "output_type": "execute_result"
    }
   ],
   "source": [
    "df.head()"
   ]
  },
  {
   "cell_type": "code",
   "execution_count": 31,
   "metadata": {},
   "outputs": [
    {
     "name": "stdout",
     "output_type": "stream",
     "text": [
      "f2fd066f221a835b1c68b24dcbeddc14 0 1.0 1371 862 1724 1242 \n",
      "788c42c6b87bb62f1d5def6b0e7ca9da 0 1.0 1128 956 1416 1294 \n",
      "5d8d9b5c072bbc2a4a2a0b89cd35ee9f 0 1.0 1441 775 1773 1171 \n",
      "e541711f560cd700d7fdddd1d3dd98d4 0 1.0 946 684 1141 902 \n",
      "6ee6a322ef5a5c52b1e160c2ef5e83fd 0 1.0 1392 855 1688 1174 3 1.0 998 1592 2179 1989 \n",
      "3075ea62bfa39a295cbf419b9248401b 0 1.0 1362 817 2006 1281 \n",
      "6de2e33c4814358a4af07f0d2b03e2de 0 1.0 1423 854 1689 1111 \n",
      "8b1be486cd3aa270873ee8bce40084a0 0 1.0 1103 749 1323 986 3 1.0 826 1387 1635 1652 \n",
      "7ce84780a2d602c08c800ff2e769514c 3 1.0 1349 1399 2539 1898 \n",
      "72cfa22b529d2ae71985b2636cb9baf8 0 1.0 1703 680 2010 1053 \n",
      "fe52d8c7ce9e6f9435fcd3438aa19da7 3 1.0 876 1425 2099 1890 \n"
     ]
    }
   ],
   "source": [
    "for i, id in enumerate(result.keys()):\n",
    "  print(id, result[id])\n",
    "  if (i == 10):\n",
    "    break"
   ]
  },
  {
   "cell_type": "code",
   "execution_count": 35,
   "metadata": {},
   "outputs": [
    {
     "name": "stdout",
     "output_type": "stream",
     "text": [
      "{'license': 0, 'url': None, 'file_name': '973b316bee7e6ccda97c07d096008fea.jpg', 'height': 833, 'width': 682, 'date_captured': None, 'id': 0}\n",
      "{'license': 0, 'url': None, 'file_name': '0eca5bbff12b841c18d231fc8cda0eeb.jpg', 'height': 833, 'width': 682, 'date_captured': None, 'id': 1}\n",
      "{'license': 0, 'url': None, 'file_name': '8673c57e2f920c8bb15d3c8a062ee2a2.jpg', 'height': 914, 'width': 910, 'date_captured': None, 'id': 2}\n",
      "{'license': 0, 'url': None, 'file_name': '28381c8323917ac88d571e1213a2d382.jpg', 'height': 1024, 'width': 1024, 'date_captured': None, 'id': 3}\n",
      "{'license': 0, 'url': None, 'file_name': 'b0a1aba6962b7a2ae90ebd5f293a7413.jpg', 'height': 810, 'width': 664, 'date_captured': None, 'id': 4}\n",
      "{'license': 0, 'url': None, 'file_name': '60485f64a1de6c652639c3ab84fcd12f.jpg', 'height': 833, 'width': 682, 'date_captured': None, 'id': 5}\n",
      "{'license': 0, 'url': None, 'file_name': 'd343221fe29d689f6d6e5b1501774ee4.jpg', 'height': 1136, 'width': 885, 'date_captured': None, 'id': 6}\n",
      "{'license': 0, 'url': None, 'file_name': '7e198e152ead58293763b80301b53ea7.jpg', 'height': 1024, 'width': 1024, 'date_captured': None, 'id': 7}\n",
      "{'license': 0, 'url': None, 'file_name': 'f2fd066f221a835b1c68b24dcbeddc14.jpg', 'height': 923, 'width': 892, 'date_captured': None, 'id': 8}\n",
      "{'license': 0, 'url': None, 'file_name': '788c42c6b87bb62f1d5def6b0e7ca9da.jpg', 'height': 945, 'width': 778, 'date_captured': None, 'id': 9}\n",
      "{'license': 0, 'url': None, 'file_name': '5d8d9b5c072bbc2a4a2a0b89cd35ee9f.jpg', 'height': 1041, 'width': 913, 'date_captured': None, 'id': 10}\n"
     ]
    }
   ],
   "source": [
    "for i,id in enumerate(images_dict):\n",
    "  print(id)\n",
    "  if (i == 10):\n",
    "    break"
   ]
  },
  {
   "cell_type": "code",
   "execution_count": null,
   "metadata": {},
   "outputs": [],
   "source": []
  }
 ],
 "metadata": {
  "kernelspec": {
   "display_name": "Python 3",
   "language": "python",
   "name": "python3"
  },
  "language_info": {
   "codemirror_mode": {
    "name": "ipython",
    "version": 3
   },
   "file_extension": ".py",
   "mimetype": "text/x-python",
   "name": "python",
   "nbconvert_exporter": "python",
   "pygments_lexer": "ipython3",
   "version": "3.7.6"
  }
 },
 "nbformat": 4,
 "nbformat_minor": 4
}
